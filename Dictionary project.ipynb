{
 "cells": [
  {
   "cell_type": "code",
   "execution_count": 16,
   "id": "81be1310",
   "metadata": {},
   "outputs": [],
   "source": [
    "import json\n",
    "import difflib"
   ]
  },
  {
   "cell_type": "code",
   "execution_count": 4,
   "id": "04d6a34d",
   "metadata": {},
   "outputs": [],
   "source": [
    "data = json.load(open('data.json'))"
   ]
  },
  {
   "cell_type": "code",
   "execution_count": 12,
   "id": "4b4b848a",
   "metadata": {},
   "outputs": [],
   "source": [
    "def translator(word):\n",
    "    word = word.lower()\n",
    "    if word in data:\n",
    "        return data[word]\n",
    "    else:\n",
    "        return 'the word doesnt exist'"
   ]
  },
  {
   "cell_type": "code",
   "execution_count": 15,
   "id": "e586b09f",
   "metadata": {},
   "outputs": [
    {
     "data": {
      "text/plain": [
       "'the word doesnt exist'"
      ]
     },
     "execution_count": 15,
     "metadata": {},
     "output_type": "execute_result"
    }
   ],
   "source": [
    "translator('RAIezN')"
   ]
  },
  {
   "cell_type": "code",
   "execution_count": 22,
   "id": "c8ca94f7",
   "metadata": {},
   "outputs": [
    {
     "data": {
      "text/plain": [
       "0.8888888888888888"
      ]
     },
     "execution_count": 22,
     "metadata": {},
     "output_type": "execute_result"
    }
   ],
   "source": [
    "difflib.SequenceMatcher(None,'rainn','rain').ratio()"
   ]
  },
  {
   "cell_type": "code",
   "execution_count": 31,
   "id": "e7c2211d",
   "metadata": {},
   "outputs": [
    {
     "data": {
      "text/plain": [
       "'rain'"
      ]
     },
     "execution_count": 31,
     "metadata": {},
     "output_type": "execute_result"
    }
   ],
   "source": [
    "difflib.get_close_matches('rainn',data.keys())[0]"
   ]
  },
  {
   "cell_type": "code",
   "execution_count": 45,
   "id": "a5b87eda",
   "metadata": {},
   "outputs": [],
   "source": [
    "def translator(word):\n",
    "    word = word.lower()\n",
    "    if word in data:\n",
    "        return data[word]\n",
    "    elif len(difflib.get_close_matches('rainn',data.keys()))>0:\n",
    "        option = input(f\"Did you mean {difflib.get_close_matches('rainn',data.keys())[0]} instead ? Enter y if yes or n if no \")\n",
    "        if option=='y':\n",
    "            return data[difflib.get_close_matches('rainn',data.keys())[0]]\n",
    "        elif option=='n':\n",
    "            return 'the word doesnt exist pls double check it'\n",
    "        else:\n",
    "            return 'we didnt understand your word'\n",
    "    else:\n",
    "        return 'the word doesnt exist pls double check it'"
   ]
  },
  {
   "cell_type": "code",
   "execution_count": 51,
   "id": "464649e4",
   "metadata": {},
   "outputs": [
    {
     "name": "stdout",
     "output_type": "stream",
     "text": [
      "enter the wordrsin\n",
      "Did you mean rain instead ? Enter y if yes or n if no y\n",
      "\n",
      " Precipitation in the form of liquid water drops with diameters greater than 0.5 millimetres.\n",
      "\n",
      " To fall from the clouds in drops of water.\n"
     ]
    }
   ],
   "source": [
    "word=input('enter the word')\n",
    "translate = translator(word)\n",
    "\n",
    "\n",
    "if type(translate) == list:\n",
    "    for i in translate:\n",
    "        print('\\n',i)\n",
    "else:\n",
    "    print(translate)"
   ]
  },
  {
   "cell_type": "code",
   "execution_count": null,
   "id": "dec96791",
   "metadata": {},
   "outputs": [],
   "source": []
  },
  {
   "cell_type": "code",
   "execution_count": null,
   "id": "48b07410",
   "metadata": {},
   "outputs": [],
   "source": []
  }
 ],
 "metadata": {
  "kernelspec": {
   "display_name": "Python 3 (ipykernel)",
   "language": "python",
   "name": "python3"
  },
  "language_info": {
   "codemirror_mode": {
    "name": "ipython",
    "version": 3
   },
   "file_extension": ".py",
   "mimetype": "text/x-python",
   "name": "python",
   "nbconvert_exporter": "python",
   "pygments_lexer": "ipython3",
   "version": "3.10.9"
  }
 },
 "nbformat": 4,
 "nbformat_minor": 5
}
